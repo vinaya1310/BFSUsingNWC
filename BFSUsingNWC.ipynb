{
 "cells": [
  {
   "cell_type": "markdown",
   "metadata": {},
   "source": [
    "<b>Solving Transportation problem using NWC method</b>\n",
    "- Give any dimension of supply and demand values in second kernel this method will give the Basic feasible solution and the cost associated with it :)\n",
    "- Make sure you give positive values and total supply = total demand"
   ]
  },
  {
   "cell_type": "code",
   "execution_count": 9,
   "metadata": {},
   "outputs": [],
   "source": [
    "import numpy as np\n",
    "\n",
    "def optimization_using_northwest_corner(supply,demand,cost_of_solution_row_wise):\n",
    "    #Making sure no value is below zero\n",
    "    if is_num_below_zero(supply) or is_num_below_zero(demand) or is_num_below_zero(cost_of_solution_row_wise):\n",
    "          raise Exception(\"Please enter number above zero\")\n",
    "    dimension_supply = len(supply)\n",
    "    dimension_demand = len(demand)\n",
    "    initial_matrix = np.zeros((dimension_supply+1, dimension_demand+1))\n",
    "    #Setting the last column as supply and last row as demand\n",
    "    for i in range(len(supply)):\n",
    "        initial_matrix[i,-1] = supply[i]\n",
    "    for j in range(len(demand)):\n",
    "        initial_matrix[-1,j] = demand[j]\n",
    "    #Setting the last value of the matrix as the sum of supply/demand\n",
    "    initial_matrix[-1,-1] = np.sum(initial_matrix[:,-1])\n",
    "    solution_matrix = initial_matrix.copy()\n",
    "    #Printing the initial matrix with supply and demand\n",
    "    print(\"Initial matrix\\n\",initial_matrix,\"\\n\")\n",
    "    \n",
    "    for i in range(dimension_supply):\n",
    "        for j in range(dimension_demand):\n",
    "            #Setting the minimum of supply and demand values in following variable\n",
    "            minimum_of_supply_demand = np.minimum(initial_matrix[i,dimension_demand],initial_matrix[dimension_supply,j])\n",
    "            #subracting both supply and demand by the minimum value\n",
    "            initial_matrix[dimension_supply,j] = initial_matrix[dimension_supply,j] - minimum_of_supply_demand\n",
    "            initial_matrix[i,dimension_demand] = initial_matrix[i,dimension_demand] - minimum_of_supply_demand\n",
    "            solution_matrix[i,j] = minimum_of_supply_demand\n",
    "    print(\"solution matrix\\n\",solution_matrix,\"\\n\")\n",
    "    \n",
    "    #Reshaping the single array to matrix form\n",
    "    reshaping_cost_of_solution = cost_of_solution_row_wise.reshape(dimension_supply,dimension_demand)\n",
    "    #Adding zeros to rows and columns\n",
    "    rows_with_zeros = np.hstack((reshaping_cost_of_solution, np.zeros((reshaping_cost_of_solution.shape[0], 1), dtype=reshaping_cost_of_solution.dtype)))\n",
    "    columns_with_zeros = np.vstack((rows_with_zeros, np.zeros((1,rows_with_zeros.shape[1]), dtype=rows_with_zeros.dtype)))\n",
    "    #printing the original cost function with added zeros and columns\n",
    "    cost_matrix = np.matrix(columns_with_zeros)\n",
    "    print(\"Initial Cost matrix\\n\",cost_matrix,\"\\n\")\n",
    "    #Finding cost of the solution and adding all the costs\n",
    "    cost_of_solution = np.multiply(solution_matrix,cost_matrix)\n",
    "    total_cost_of_solution = np.sum(cost_of_solution)\n",
    "    print(\"Solution with Cost matrix \\n\",cost_of_solution,\"\\n\")\n",
    "    print(\"Total cost of the solution : \",total_cost_of_solution)\n",
    "    \n",
    "#Checking if any number is below zero    \n",
    "def is_num_below_zero(num):\n",
    "    for i in num:\n",
    "        if i < 0:\n",
    "            return True\n",
    "    return False\n"
   ]
  },
  {
   "cell_type": "markdown",
   "metadata": {},
   "source": [
    "<b>Now let's try with few values and verify</b>"
   ]
  },
  {
   "cell_type": "code",
   "execution_count": 10,
   "metadata": {},
   "outputs": [
    {
     "output_type": "stream",
     "name": "stdout",
     "text": [
      "Initial matrix\n [[ 0.  0.  0.  0. 14.]\n [ 0.  0.  0.  0. 16.]\n [ 0.  0.  0.  0. 20.]\n [11. 15. 14. 10. 50.]] \n\nsolution matrix\n [[11.  3.  0.  0. 14.]\n [ 0. 12.  4.  0. 16.]\n [ 0.  0. 10. 10. 20.]\n [11. 15. 14. 10. 50.]] \n\nInitial Cost matrix\n [[180 110 130 290   0]\n [190 250 150 280   0]\n [240 270 190 120   0]\n [  0   0   0   0   0]] \n\nSolution with Cost matrix \n [[1980.  330.    0.    0.    0.]\n [   0. 3000.  600.    0.    0.]\n [   0.    0. 1900. 1200.    0.]\n [   0.    0.    0.    0.    0.]] \n\nTotal cost of the solution :  9010.0\n"
     ]
    }
   ],
   "source": [
    "supply = [14,16,20]\n",
    "demand = [11,15,14,10]\n",
    "cost_of_solution_row_wise = np.array([180,110,130,290,190,250,150,280,240,270,190,120])\n",
    "optimization_using_northwest_corner(supply,demand,cost_of_solution_row_wise)"
   ]
  },
  {
   "cell_type": "code",
   "execution_count": 11,
   "metadata": {},
   "outputs": [
    {
     "output_type": "stream",
     "name": "stdout",
     "text": [
      "Initial matrix\n [[  0.   0.   0.  30.]\n [  0.   0.   0.  20.]\n [  0.   0.   0.  35.]\n [  0.   0.   0.  35.]\n [ 30.  40.  50. 120.]] \n\nsolution matrix\n [[ 30.   0.   0.  30.]\n [  0.  20.   0.  20.]\n [  0.  20.  15.  35.]\n [  0.   0.  35.  35.]\n [ 30.  40.  50. 120.]] \n\nInitial Cost matrix\n [[10 11  6  0]\n [ 4  5  9  0]\n [ 3  8  7  0]\n [11 10  9  0]\n [ 0  0  0  0]] \n\nSolution with Cost matrix \n [[300.   0.   0.   0.]\n [  0. 100.   0.   0.]\n [  0. 160. 105.   0.]\n [  0.   0. 315.   0.]\n [  0.   0.   0.   0.]] \n\nTotal cost of the solution :  980.0\n"
     ]
    }
   ],
   "source": [
    "supply = [30,20,35,35]\n",
    "demand = [30,40,50]\n",
    "cost_of_solution_row_wise = np.array([10,11,6,4,5,9,3,8,7,11,10,9])\n",
    "optimization_using_northwest_corner(supply,demand,cost_of_solution_row_wise)"
   ]
  },
  {
   "cell_type": "code",
   "execution_count": 12,
   "metadata": {},
   "outputs": [
    {
     "output_type": "stream",
     "name": "stdout",
     "text": [
      "Initial matrix\n [[  0.   0.   0.  32.]\n [  0.   0.   0.  44.]\n [  0.   0.   0.  34.]\n [ 28.  45.  37. 110.]] \n\nsolution matrix\n [[ 28.   4.   0.  32.]\n [  0.  41.   3.  44.]\n [  0.   0.  34.  34.]\n [ 28.  45.  37. 110.]] \n\nInitial Cost matrix\n [[150 213 222   0]\n [175 204 218   0]\n [188 198 246   0]\n [  0   0   0   0]] \n\nSolution with Cost matrix \n [[4200.  852.    0.    0.]\n [   0. 8364.  654.    0.]\n [   0.    0. 8364.    0.]\n [   0.    0.    0.    0.]] \n\nTotal cost of the solution :  22434.0\n"
     ]
    }
   ],
   "source": [
    "supply = [32,44,34]\n",
    "demand = [28,45,37]\n",
    "cost_of_solution_row_wise = np.array([150,213,222,175,204,218,188,198,246])\n",
    "optimization_using_northwest_corner(supply,demand,cost_of_solution_row_wise)"
   ]
  }
 ],
 "metadata": {
  "kernelspec": {
   "display_name": "Python 3",
   "language": "python",
   "name": "python3"
  },
  "language_info": {
   "codemirror_mode": {
    "name": "ipython",
    "version": 3
   },
   "file_extension": ".py",
   "mimetype": "text/x-python",
   "name": "python",
   "nbconvert_exporter": "python",
   "pygments_lexer": "ipython3",
   "version": "3.7.7-final"
  }
 },
 "nbformat": 4,
 "nbformat_minor": 4
}